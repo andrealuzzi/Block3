{
 "cells": [
  {
   "cell_type": "markdown",
   "id": "413cf12f-9aa0-4a7b-815c-b6e77abd5ac5",
   "metadata": {},
   "source": [
    " # UN Population Data\n",
    " data source: https://data.un.org/Data.aspx?q=fertility+rate&d=PopDiv&f=variableID%3a54"
   ]
  },
  {
   "cell_type": "code",
   "execution_count": 1,
   "id": "a139cc26-cab7-4c8b-b3a2-7a51e77cf6ed",
   "metadata": {},
   "outputs": [],
   "source": [
    "import pandas as pd\n",
    "import numpy as np\n",
    "import matplotlib.pyplot as plt\n",
    "import seaborn as sns"
   ]
  },
  {
   "cell_type": "code",
   "execution_count": 2,
   "id": "6f114b8f-6208-4292-b380-a1e31b659dbb",
   "metadata": {},
   "outputs": [],
   "source": [
    "undata = pd.read_csv('UNdata_Export_20241127_074710353.csv')"
   ]
  },
  {
   "cell_type": "code",
   "execution_count": null,
   "id": "dc02dd18-c7bd-4a64-83e7-65b161df5fde",
   "metadata": {},
   "outputs": [],
   "source": []
  }
 ],
 "metadata": {
  "kernelspec": {
   "display_name": "Python 3 (ipykernel)",
   "language": "python",
   "name": "python3"
  },
  "language_info": {
   "codemirror_mode": {
    "name": "ipython",
    "version": 3
   },
   "file_extension": ".py",
   "mimetype": "text/x-python",
   "name": "python",
   "nbconvert_exporter": "python",
   "pygments_lexer": "ipython3",
   "version": "3.11.9"
  }
 },
 "nbformat": 4,
 "nbformat_minor": 5
}
