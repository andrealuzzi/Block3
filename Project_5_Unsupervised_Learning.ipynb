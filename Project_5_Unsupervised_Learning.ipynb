{
 "cells": [
  {
   "cell_type": "markdown",
   "metadata": {},
   "source": [
    "# Project 5: Data Science & Machine Learning on Votings of the Swiss National Council\n",
    "\n",
    "In project 5, we will analyze the voting behavior of the \"Nationalrat\" of the Swiss parliament in a number of ways. The project consists of 3 different files:\n",
    "\n",
    "* Data Preparation: Prepare the data for the other two notebooks.\n",
    "* Voting Predictions: Predict the voting behavior of individual members or the entire council.\n",
    "* Unsupervised (this notebook): Find lower-dimensional representations of the voting behavior and groups of members of parliament.\n",
    "\n",
    "**Make sure to have run the data preparation notebook before running this one!**"
   ]
  },
  {
   "cell_type": "markdown",
   "metadata": {
    "id": "PlaklOqmhMus"
   },
   "source": [
    "# Preparations"
   ]
  },
  {
   "cell_type": "code",
   "execution_count": 1,
   "metadata": {
    "colab": {
     "base_uri": "https://localhost:8080/"
    },
    "id": "_V7-2v4v0r-R",
    "outputId": "417c479c-ebc0-461d-de4c-dfbb7cc3c161"
   },
   "outputs": [],
   "source": [
    "import pandas as pd\n",
    "import numpy as np\n",
    "np.random.seed(123)"
   ]
  },
  {
   "cell_type": "code",
   "execution_count": 2,
   "metadata": {},
   "outputs": [],
   "source": [
    "import matplotlib.pyplot as plt\n",
    "import matplotlib.patches as mpatches\n",
    "import matplotlib.colors as mcolors\n",
    "import seaborn as sns"
   ]
  },
  {
   "cell_type": "code",
   "execution_count": 3,
   "metadata": {},
   "outputs": [],
   "source": [
    "from sklearn.preprocessing import StandardScaler\n",
    "from sklearn.decomposition import PCA\n",
    "from sklearn.cluster import KMeans\n",
    "from sklearn.metrics import silhouette_score\n",
    "from sklearn.metrics.cluster import contingency_matrix"
   ]
  },
  {
   "cell_type": "markdown",
   "metadata": {
    "id": "z7WFKVOShSYx"
   },
   "source": [
    "Data Loading:"
   ]
  },
  {
   "cell_type": "code",
   "execution_count": 4,
   "metadata": {},
   "outputs": [],
   "source": [
    "file_path_ss24_nr_root = 'Abstimmungen_NR_2024SS_DE'\n",
    "df_nr_cast_votes = pd.read_csv(file_path_ss24_nr_root + '_cast_votes.csv', index_col='Reference ID')"
   ]
  },
  {
   "cell_type": "markdown",
   "metadata": {},
   "source": [
    "Remember that `df_nr_cast_votes` contains the voting proposals as rows, and the members of parliament as columns. Each element in the dataframe contains the vote that the respective person gave to the respective proposal.\n",
    "\n",
    "For later reference, we also load the summary of each of the proposals:"
   ]
  },
  {
   "cell_type": "code",
   "execution_count": 5,
   "metadata": {},
   "outputs": [],
   "source": [
    "df_summary = pd.read_csv(file_path_ss24_nr_root + '_summary.csv', index_col='Reference ID')"
   ]
  },
  {
   "cell_type": "markdown",
   "metadata": {
    "id": "4ZEGUjsBz2-J"
   },
   "source": [
    "# Visualising Voting Behavior\n",
    "In the first part, we will try to visualize the members of parliament according to their voting behavior using dimensionality reduction techniques such as principal component analysis. These methods expect the rows to correspond to individual objects. Hence, we have to *transpose* our dataframe in order to have the objects of our study (the members of parliament) as rows:"
   ]
  },
  {
   "cell_type": "code",
   "execution_count": 6,
   "metadata": {},
   "outputs": [
    {
     "data": {
      "text/html": [
       "<div>\n",
       "<style scoped>\n",
       "    .dataframe tbody tr th:only-of-type {\n",
       "        vertical-align: middle;\n",
       "    }\n",
       "\n",
       "    .dataframe tbody tr th {\n",
       "        vertical-align: top;\n",
       "    }\n",
       "\n",
       "    .dataframe thead th {\n",
       "        text-align: right;\n",
       "    }\n",
       "</style>\n",
       "<table border=\"1\" class=\"dataframe\">\n",
       "  <thead>\n",
       "    <tr style=\"text-align: right;\">\n",
       "      <th>Reference ID</th>\n",
       "      <th>28659</th>\n",
       "      <th>28789</th>\n",
       "      <th>28790</th>\n",
       "      <th>28792</th>\n",
       "      <th>28793</th>\n",
       "      <th>28794</th>\n",
       "      <th>28795</th>\n",
       "      <th>28796</th>\n",
       "      <th>28797</th>\n",
       "      <th>28798</th>\n",
       "      <th>...</th>\n",
       "      <th>29243</th>\n",
       "      <th>29244</th>\n",
       "      <th>29245</th>\n",
       "      <th>29246</th>\n",
       "      <th>29247</th>\n",
       "      <th>29249</th>\n",
       "      <th>29250</th>\n",
       "      <th>29251</th>\n",
       "      <th>29252</th>\n",
       "      <th>29253</th>\n",
       "    </tr>\n",
       "  </thead>\n",
       "  <tbody>\n",
       "    <tr>\n",
       "      <th>4154 | Addor, Jean-Luc | NR | V | VS | 22.04.1964 | 04.12.2023 | 04.12.2023</th>\n",
       "      <td>1</td>\n",
       "      <td>-1</td>\n",
       "      <td>1</td>\n",
       "      <td>1</td>\n",
       "      <td>1</td>\n",
       "      <td>1</td>\n",
       "      <td>-1</td>\n",
       "      <td>1</td>\n",
       "      <td>1</td>\n",
       "      <td>-1</td>\n",
       "      <td>...</td>\n",
       "      <td>1</td>\n",
       "      <td>1</td>\n",
       "      <td>1</td>\n",
       "      <td>1</td>\n",
       "      <td>-1</td>\n",
       "      <td>1</td>\n",
       "      <td>-1</td>\n",
       "      <td>1</td>\n",
       "      <td>1</td>\n",
       "      <td>1</td>\n",
       "    </tr>\n",
       "    <tr>\n",
       "      <th>4049 | Aebischer, Matthias | NR | S | BE | 18.10.1967 | 04.12.2023 | 04.12.2023</th>\n",
       "      <td>1</td>\n",
       "      <td>1</td>\n",
       "      <td>-1</td>\n",
       "      <td>1</td>\n",
       "      <td>1</td>\n",
       "      <td>-1</td>\n",
       "      <td>1</td>\n",
       "      <td>-1</td>\n",
       "      <td>-1</td>\n",
       "      <td>1</td>\n",
       "      <td>...</td>\n",
       "      <td>1</td>\n",
       "      <td>1</td>\n",
       "      <td>1</td>\n",
       "      <td>1</td>\n",
       "      <td>1</td>\n",
       "      <td>1</td>\n",
       "      <td>1</td>\n",
       "      <td>1</td>\n",
       "      <td>1</td>\n",
       "      <td>1</td>\n",
       "    </tr>\n",
       "    <tr>\n",
       "      <th>10803 | Aellen, Cyril | NR | RL | GE | 29.02.1972 | 04.12.2023 | 04.12.2023</th>\n",
       "      <td>1</td>\n",
       "      <td>1</td>\n",
       "      <td>1</td>\n",
       "      <td>-1</td>\n",
       "      <td>1</td>\n",
       "      <td>1</td>\n",
       "      <td>-1</td>\n",
       "      <td>1</td>\n",
       "      <td>1</td>\n",
       "      <td>-1</td>\n",
       "      <td>...</td>\n",
       "      <td>1</td>\n",
       "      <td>1</td>\n",
       "      <td>1</td>\n",
       "      <td>1</td>\n",
       "      <td>1</td>\n",
       "      <td>1</td>\n",
       "      <td>1</td>\n",
       "      <td>1</td>\n",
       "      <td>1</td>\n",
       "      <td>1</td>\n",
       "    </tr>\n",
       "    <tr>\n",
       "      <th>4053 | Aeschi, Thomas | NR | V | ZG | 13.01.1979 | 04.12.2023 | 04.12.2023</th>\n",
       "      <td>1</td>\n",
       "      <td>-1</td>\n",
       "      <td>1</td>\n",
       "      <td>1</td>\n",
       "      <td>1</td>\n",
       "      <td>1</td>\n",
       "      <td>-1</td>\n",
       "      <td>1</td>\n",
       "      <td>1</td>\n",
       "      <td>-1</td>\n",
       "      <td>...</td>\n",
       "      <td>1</td>\n",
       "      <td>1</td>\n",
       "      <td>1</td>\n",
       "      <td>1</td>\n",
       "      <td>-1</td>\n",
       "      <td>1</td>\n",
       "      <td>-1</td>\n",
       "      <td>1</td>\n",
       "      <td>1</td>\n",
       "      <td>1</td>\n",
       "    </tr>\n",
       "    <tr>\n",
       "      <th>10812 | Alijaj, Islam | NR | S | ZH | 18.06.1986 | 04.12.2023 | 04.12.2023</th>\n",
       "      <td>-1</td>\n",
       "      <td>1</td>\n",
       "      <td>-1</td>\n",
       "      <td>1</td>\n",
       "      <td>1</td>\n",
       "      <td>-1</td>\n",
       "      <td>1</td>\n",
       "      <td>-1</td>\n",
       "      <td>-1</td>\n",
       "      <td>1</td>\n",
       "      <td>...</td>\n",
       "      <td>1</td>\n",
       "      <td>1</td>\n",
       "      <td>1</td>\n",
       "      <td>1</td>\n",
       "      <td>1</td>\n",
       "      <td>1</td>\n",
       "      <td>1</td>\n",
       "      <td>1</td>\n",
       "      <td>1</td>\n",
       "      <td>1</td>\n",
       "    </tr>\n",
       "    <tr>\n",
       "      <th>...</th>\n",
       "      <td>...</td>\n",
       "      <td>...</td>\n",
       "      <td>...</td>\n",
       "      <td>...</td>\n",
       "      <td>...</td>\n",
       "      <td>...</td>\n",
       "      <td>...</td>\n",
       "      <td>...</td>\n",
       "      <td>...</td>\n",
       "      <td>...</td>\n",
       "      <td>...</td>\n",
       "      <td>...</td>\n",
       "      <td>...</td>\n",
       "      <td>...</td>\n",
       "      <td>...</td>\n",
       "      <td>...</td>\n",
       "      <td>...</td>\n",
       "      <td>...</td>\n",
       "      <td>...</td>\n",
       "      <td>...</td>\n",
       "      <td>...</td>\n",
       "    </tr>\n",
       "    <tr>\n",
       "      <th>4318 | Wyss, Sarah | NR | S | BS | 03.08.1988 | 04.12.2023 | 04.12.2023</th>\n",
       "      <td>-1</td>\n",
       "      <td>1</td>\n",
       "      <td>-1</td>\n",
       "      <td>1</td>\n",
       "      <td>1</td>\n",
       "      <td>-1</td>\n",
       "      <td>1</td>\n",
       "      <td>-1</td>\n",
       "      <td>-1</td>\n",
       "      <td>1</td>\n",
       "      <td>...</td>\n",
       "      <td>1</td>\n",
       "      <td>1</td>\n",
       "      <td>1</td>\n",
       "      <td>1</td>\n",
       "      <td>1</td>\n",
       "      <td>1</td>\n",
       "      <td>1</td>\n",
       "      <td>1</td>\n",
       "      <td>1</td>\n",
       "      <td>1</td>\n",
       "    </tr>\n",
       "    <tr>\n",
       "      <th>10846 | Wyssmann, Rémy | NR | V | SO | 20.06.1967 | 04.12.2023 | 04.12.2023</th>\n",
       "      <td>1</td>\n",
       "      <td>-1</td>\n",
       "      <td>1</td>\n",
       "      <td>1</td>\n",
       "      <td>1</td>\n",
       "      <td>1</td>\n",
       "      <td>-1</td>\n",
       "      <td>1</td>\n",
       "      <td>1</td>\n",
       "      <td>-1</td>\n",
       "      <td>...</td>\n",
       "      <td>1</td>\n",
       "      <td>1</td>\n",
       "      <td>1</td>\n",
       "      <td>1</td>\n",
       "      <td>-1</td>\n",
       "      <td>1</td>\n",
       "      <td>-1</td>\n",
       "      <td>1</td>\n",
       "      <td>1</td>\n",
       "      <td>1</td>\n",
       "    </tr>\n",
       "    <tr>\n",
       "      <th>10851 | Zryd, Andrea | NR | S | BE | 24.10.1975 | 04.12.2023 | 04.12.2023</th>\n",
       "      <td>0</td>\n",
       "      <td>1</td>\n",
       "      <td>-1</td>\n",
       "      <td>1</td>\n",
       "      <td>1</td>\n",
       "      <td>-1</td>\n",
       "      <td>1</td>\n",
       "      <td>-1</td>\n",
       "      <td>-1</td>\n",
       "      <td>1</td>\n",
       "      <td>...</td>\n",
       "      <td>1</td>\n",
       "      <td>1</td>\n",
       "      <td>1</td>\n",
       "      <td>1</td>\n",
       "      <td>1</td>\n",
       "      <td>1</td>\n",
       "      <td>1</td>\n",
       "      <td>1</td>\n",
       "      <td>1</td>\n",
       "      <td>0</td>\n",
       "    </tr>\n",
       "    <tr>\n",
       "      <th>4179 | Zuberbühler, David | NR | V | AR | 20.02.1979 | 04.12.2023 | 04.12.2023</th>\n",
       "      <td>1</td>\n",
       "      <td>-1</td>\n",
       "      <td>1</td>\n",
       "      <td>1</td>\n",
       "      <td>1</td>\n",
       "      <td>1</td>\n",
       "      <td>-1</td>\n",
       "      <td>1</td>\n",
       "      <td>1</td>\n",
       "      <td>-1</td>\n",
       "      <td>...</td>\n",
       "      <td>1</td>\n",
       "      <td>1</td>\n",
       "      <td>1</td>\n",
       "      <td>1</td>\n",
       "      <td>-1</td>\n",
       "      <td>1</td>\n",
       "      <td>-1</td>\n",
       "      <td>1</td>\n",
       "      <td>1</td>\n",
       "      <td>1</td>\n",
       "    </tr>\n",
       "    <tr>\n",
       "      <th>10822 | Zybach, Ursula | NR | S | BE | 29.08.1967 | 04.12.2023 | 04.12.2023</th>\n",
       "      <td>1</td>\n",
       "      <td>1</td>\n",
       "      <td>-1</td>\n",
       "      <td>1</td>\n",
       "      <td>1</td>\n",
       "      <td>-1</td>\n",
       "      <td>1</td>\n",
       "      <td>-1</td>\n",
       "      <td>-1</td>\n",
       "      <td>1</td>\n",
       "      <td>...</td>\n",
       "      <td>1</td>\n",
       "      <td>1</td>\n",
       "      <td>1</td>\n",
       "      <td>1</td>\n",
       "      <td>1</td>\n",
       "      <td>1</td>\n",
       "      <td>1</td>\n",
       "      <td>1</td>\n",
       "      <td>1</td>\n",
       "      <td>1</td>\n",
       "    </tr>\n",
       "  </tbody>\n",
       "</table>\n",
       "<p>200 rows × 359 columns</p>\n",
       "</div>"
      ],
      "text/plain": [
       "Reference ID                                        28659  28789  28790  \\\n",
       "4154 | Addor, Jean-Luc | NR | V | VS | 22.04.19...      1     -1      1   \n",
       "4049 | Aebischer, Matthias | NR | S | BE | 18.1...      1      1     -1   \n",
       "10803 | Aellen, Cyril | NR | RL | GE | 29.02.19...      1      1      1   \n",
       "4053 | Aeschi, Thomas | NR | V | ZG | 13.01.197...      1     -1      1   \n",
       "10812 | Alijaj, Islam | NR | S | ZH | 18.06.198...     -1      1     -1   \n",
       "...                                                   ...    ...    ...   \n",
       "4318 | Wyss, Sarah | NR | S | BS | 03.08.1988 |...     -1      1     -1   \n",
       "10846 | Wyssmann, Rémy | NR | V | SO | 20.06.19...      1     -1      1   \n",
       "10851 | Zryd, Andrea | NR | S | BE | 24.10.1975...      0      1     -1   \n",
       "4179 | Zuberbühler, David | NR | V | AR | 20.02...      1     -1      1   \n",
       "10822 | Zybach, Ursula | NR | S | BE | 29.08.19...      1      1     -1   \n",
       "\n",
       "Reference ID                                        28792  28793  28794  \\\n",
       "4154 | Addor, Jean-Luc | NR | V | VS | 22.04.19...      1      1      1   \n",
       "4049 | Aebischer, Matthias | NR | S | BE | 18.1...      1      1     -1   \n",
       "10803 | Aellen, Cyril | NR | RL | GE | 29.02.19...     -1      1      1   \n",
       "4053 | Aeschi, Thomas | NR | V | ZG | 13.01.197...      1      1      1   \n",
       "10812 | Alijaj, Islam | NR | S | ZH | 18.06.198...      1      1     -1   \n",
       "...                                                   ...    ...    ...   \n",
       "4318 | Wyss, Sarah | NR | S | BS | 03.08.1988 |...      1      1     -1   \n",
       "10846 | Wyssmann, Rémy | NR | V | SO | 20.06.19...      1      1      1   \n",
       "10851 | Zryd, Andrea | NR | S | BE | 24.10.1975...      1      1     -1   \n",
       "4179 | Zuberbühler, David | NR | V | AR | 20.02...      1      1      1   \n",
       "10822 | Zybach, Ursula | NR | S | BE | 29.08.19...      1      1     -1   \n",
       "\n",
       "Reference ID                                        28795  28796  28797  \\\n",
       "4154 | Addor, Jean-Luc | NR | V | VS | 22.04.19...     -1      1      1   \n",
       "4049 | Aebischer, Matthias | NR | S | BE | 18.1...      1     -1     -1   \n",
       "10803 | Aellen, Cyril | NR | RL | GE | 29.02.19...     -1      1      1   \n",
       "4053 | Aeschi, Thomas | NR | V | ZG | 13.01.197...     -1      1      1   \n",
       "10812 | Alijaj, Islam | NR | S | ZH | 18.06.198...      1     -1     -1   \n",
       "...                                                   ...    ...    ...   \n",
       "4318 | Wyss, Sarah | NR | S | BS | 03.08.1988 |...      1     -1     -1   \n",
       "10846 | Wyssmann, Rémy | NR | V | SO | 20.06.19...     -1      1      1   \n",
       "10851 | Zryd, Andrea | NR | S | BE | 24.10.1975...      1     -1     -1   \n",
       "4179 | Zuberbühler, David | NR | V | AR | 20.02...     -1      1      1   \n",
       "10822 | Zybach, Ursula | NR | S | BE | 29.08.19...      1     -1     -1   \n",
       "\n",
       "Reference ID                                        28798  ...  29243  29244  \\\n",
       "4154 | Addor, Jean-Luc | NR | V | VS | 22.04.19...     -1  ...      1      1   \n",
       "4049 | Aebischer, Matthias | NR | S | BE | 18.1...      1  ...      1      1   \n",
       "10803 | Aellen, Cyril | NR | RL | GE | 29.02.19...     -1  ...      1      1   \n",
       "4053 | Aeschi, Thomas | NR | V | ZG | 13.01.197...     -1  ...      1      1   \n",
       "10812 | Alijaj, Islam | NR | S | ZH | 18.06.198...      1  ...      1      1   \n",
       "...                                                   ...  ...    ...    ...   \n",
       "4318 | Wyss, Sarah | NR | S | BS | 03.08.1988 |...      1  ...      1      1   \n",
       "10846 | Wyssmann, Rémy | NR | V | SO | 20.06.19...     -1  ...      1      1   \n",
       "10851 | Zryd, Andrea | NR | S | BE | 24.10.1975...      1  ...      1      1   \n",
       "4179 | Zuberbühler, David | NR | V | AR | 20.02...     -1  ...      1      1   \n",
       "10822 | Zybach, Ursula | NR | S | BE | 29.08.19...      1  ...      1      1   \n",
       "\n",
       "Reference ID                                        29245  29246  29247  \\\n",
       "4154 | Addor, Jean-Luc | NR | V | VS | 22.04.19...      1      1     -1   \n",
       "4049 | Aebischer, Matthias | NR | S | BE | 18.1...      1      1      1   \n",
       "10803 | Aellen, Cyril | NR | RL | GE | 29.02.19...      1      1      1   \n",
       "4053 | Aeschi, Thomas | NR | V | ZG | 13.01.197...      1      1     -1   \n",
       "10812 | Alijaj, Islam | NR | S | ZH | 18.06.198...      1      1      1   \n",
       "...                                                   ...    ...    ...   \n",
       "4318 | Wyss, Sarah | NR | S | BS | 03.08.1988 |...      1      1      1   \n",
       "10846 | Wyssmann, Rémy | NR | V | SO | 20.06.19...      1      1     -1   \n",
       "10851 | Zryd, Andrea | NR | S | BE | 24.10.1975...      1      1      1   \n",
       "4179 | Zuberbühler, David | NR | V | AR | 20.02...      1      1     -1   \n",
       "10822 | Zybach, Ursula | NR | S | BE | 29.08.19...      1      1      1   \n",
       "\n",
       "Reference ID                                        29249  29250  29251  \\\n",
       "4154 | Addor, Jean-Luc | NR | V | VS | 22.04.19...      1     -1      1   \n",
       "4049 | Aebischer, Matthias | NR | S | BE | 18.1...      1      1      1   \n",
       "10803 | Aellen, Cyril | NR | RL | GE | 29.02.19...      1      1      1   \n",
       "4053 | Aeschi, Thomas | NR | V | ZG | 13.01.197...      1     -1      1   \n",
       "10812 | Alijaj, Islam | NR | S | ZH | 18.06.198...      1      1      1   \n",
       "...                                                   ...    ...    ...   \n",
       "4318 | Wyss, Sarah | NR | S | BS | 03.08.1988 |...      1      1      1   \n",
       "10846 | Wyssmann, Rémy | NR | V | SO | 20.06.19...      1     -1      1   \n",
       "10851 | Zryd, Andrea | NR | S | BE | 24.10.1975...      1      1      1   \n",
       "4179 | Zuberbühler, David | NR | V | AR | 20.02...      1     -1      1   \n",
       "10822 | Zybach, Ursula | NR | S | BE | 29.08.19...      1      1      1   \n",
       "\n",
       "Reference ID                                        29252  29253  \n",
       "4154 | Addor, Jean-Luc | NR | V | VS | 22.04.19...      1      1  \n",
       "4049 | Aebischer, Matthias | NR | S | BE | 18.1...      1      1  \n",
       "10803 | Aellen, Cyril | NR | RL | GE | 29.02.19...      1      1  \n",
       "4053 | Aeschi, Thomas | NR | V | ZG | 13.01.197...      1      1  \n",
       "10812 | Alijaj, Islam | NR | S | ZH | 18.06.198...      1      1  \n",
       "...                                                   ...    ...  \n",
       "4318 | Wyss, Sarah | NR | S | BS | 03.08.1988 |...      1      1  \n",
       "10846 | Wyssmann, Rémy | NR | V | SO | 20.06.19...      1      1  \n",
       "10851 | Zryd, Andrea | NR | S | BE | 24.10.1975...      1      0  \n",
       "4179 | Zuberbühler, David | NR | V | AR | 20.02...      1      1  \n",
       "10822 | Zybach, Ursula | NR | S | BE | 29.08.19...      1      1  \n",
       "\n",
       "[200 rows x 359 columns]"
      ]
     },
     "execution_count": 6,
     "metadata": {},
     "output_type": "execute_result"
    }
   ],
   "source": [
    "df_ss24_nr_participants = df_nr_cast_votes.T\n",
    "df_ss24_nr_participants"
   ]
  },
  {
   "cell_type": "markdown",
   "metadata": {},
   "source": [
    "For later visualisation, we separate out the parliamentary group (\"Fraktion\") each person belongs to:"
   ]
  },
  {
   "cell_type": "code",
   "execution_count": 7,
   "metadata": {
    "id": "K0L7xE4pNNU2"
   },
   "outputs": [],
   "source": [
    "# Extract the participants' fraction\n",
    "df_ss24_nr_participants_with_fraction = df_ss24_nr_participants.reset_index()\n",
    "ss24_nr_participants_fraction = df_ss24_nr_participants_with_fraction['index'].str.split('|').str[3]"
   ]
  },
  {
   "cell_type": "markdown",
   "metadata": {
    "id": "GKgiovDHU1tV"
   },
   "source": [
    "## Preparations for Dimensionality Reduction\n",
    "We define two functions that will simplify our work to run PCA and visualise the results:"
   ]
  },
  {
   "cell_type": "code",
   "execution_count": 8,
   "metadata": {
    "id": "EG1GJBlj42Cx"
   },
   "outputs": [],
   "source": [
    "def fit_pca(data, n_components):\n",
    "    \"\"\"\n",
    "    Fit a PCA model to the data. Print necessary info. Return the fitted PCA model, principal components, and loadings.\n",
    "\n",
    "    Args:\n",
    "    - data: np.array [N, D]. Data to fit PCA to.\n",
    "    - n_components: int. Number of principal components to keep.\n",
    "\n",
    "    Returns:\n",
    "    - pca: sklearn.decomposition.PCA. Fitted PCA model.\n",
    "    - principal_components: np.array [N, n_components]. Fitted principal components.\n",
    "    - loadings: np.array [D, n_components]. Fitted loadings.\n",
    "    \"\"\"\n",
    "\n",
    "    # Fit PCA. Get components and loadings\n",
    "    pca = PCA(n_components=n_components)\n",
    "    principal_components = pca.fit_transform(data)\n",
    "    pca_df = pd.DataFrame(data=principal_components, columns=['PC' + str(i+1) for i in range(n_components)])\n",
    "    loadings = pca.components_\n",
    "\n",
    "    # Plot (cumulative) explained variance\n",
    "    cumulative_explained_variance_ratio = np.cumsum(pca.explained_variance_ratio_)\n",
    "\n",
    "    plt.bar(range(1, 1+len(pca.explained_variance_ratio_)), pca.explained_variance_ratio_, color='b', label='per component')\n",
    "    plt.plot(range(1, 1+len(pca.explained_variance_ratio_)), cumulative_explained_variance_ratio, 'r-', label='cumulative')\n",
    "    plt.grid(True)\n",
    "    plt.legend()\n",
    "    plt.xlabel('Number of Components')\n",
    "    plt.ylabel('Cumulative Ratio of Explained Variance')\n",
    "    plt.show()\n",
    "    \n",
    "    print('Variance by principal component:', pca.explained_variance_ratio_)\n",
    "    print('Cumulative variance explained by principal components:', cumulative_explained_variance_ratio)\n",
    "\n",
    "    return pca, pca_df, loadings"
   ]
  },
  {
   "cell_type": "code",
   "execution_count": 9,
   "metadata": {},
   "outputs": [],
   "source": [
    "def draw_pca_scatter_2d(x, y, hue, title=\"\", colorbar=False, colorbar_name='', ax=None):\n",
    "    \"\"\"\n",
    "    Draw a scatter plot of the first two principal components. Color the points by the given hue.\n",
    "\n",
    "    Args:\n",
    "    - x: Iterable [N]. First principal component.\n",
    "    - y: Iterable [N]. Second principal component.\n",
    "    - hue: Iterable [N]. Values to color the points by\n",
    "    - title: str. Title of the plot.\n",
    "    - colorbar: bool. Whether to show a colorbar.\n",
    "    - colorbar_name: str. Name of the colorbar.\n",
    "    - ax: matplotlib.axes.Axes. Axes to plot on.\n",
    "    \"\"\"\n",
    "\n",
    "    # If no axis is provided, create a new one\n",
    "    if ax is None:\n",
    "        fig, ax = plt.subplots(figsize=(10, 6))\n",
    "\n",
    "    # Map hue to colors\n",
    "    if not colorbar: # Category color\n",
    "        unique_categories = hue.unique() if isinstance(hue, pd.Series) else np.unique(hue)\n",
    "        color_mapping = {category: plt.cm.tab10(i) for i, category in enumerate(unique_categories)}\n",
    "        colors_mapped = list(map(color_mapping.get, hue))\n",
    "    else: # Continuous color\n",
    "        colormap = plt.cm.viridis\n",
    "        norm = mcolors.Normalize(vmin=np.min(hue), vmax=np.max(hue))\n",
    "        colors_mapped = list(map(colormap, map(norm, hue)))\n",
    "\n",
    "    scatter = ax.scatter(x, y, c=colors_mapped, edgecolor='k', s=50)\n",
    "    ax.set_xlabel('Principal Component 1')\n",
    "    ax.set_ylabel('Principal Component 2')\n",
    "    ax.set_title(title)\n",
    "    ax.grid()\n",
    "\n",
    "    if not colorbar:\n",
    "        legend_handles = [mpatches.Patch(color=color_mapping[category], label=category) for category in unique_categories]\n",
    "        plt.legend(handles=legend_handles, bbox_to_anchor=(1.05, 1), loc='upper left')\n",
    "    else:\n",
    "        cbar = plt.colorbar(scatter, orientation='vertical')\n",
    "        cbar.set_label(colorbar_name)\n",
    "\n",
    "    return ax"
   ]
  },
  {
   "cell_type": "markdown",
   "metadata": {
    "id": "Z3tsnalkH8r5"
   },
   "source": [
    "## PCA for Voting Behavior by Participants of NR\n",
    "We will now run PCA on the votes of the members. As always, we first have to scale the data:"
   ]
  },
  {
   "cell_type": "code",
   "execution_count": 10,
   "metadata": {
    "id": "xPwzdNVD3sRk"
   },
   "outputs": [],
   "source": [
    "# Scale the data\n",
    "scaler = StandardScaler()\n",
    "scaled_data_participants_ss24_nr = scaler.fit_transform(df_ss24_nr_participants)"
   ]
  },
  {
   "cell_type": "markdown",
   "metadata": {},
   "source": [
    "Now we can run PCA:"
   ]
  },
  {
   "cell_type": "code",
   "execution_count": 12,
   "metadata": {
    "colab": {
     "base_uri": "https://localhost:8080/"
    },
    "id": "NLb8J3V_CQGe",
    "outputId": "5b7c9dfa-901a-4490-89bd-dca4d8b6b6e8"
   },
   "outputs": [
    {
     "data": {
      "image/png": "[encoded data removed]",
      "text/plain": [
       "<Figure size 640x480 with 1 Axes>"
      ]
     },
     "metadata": {},
     "output_type": "display_data"
    },
    {
     "name": "stdout",
     "output_type": "stream",
     "text": [
      "Variance by principal component: [0.58907558 0.17565433 0.0410695  0.02839722 0.01907577]\n",
      "Cumulative variance explained by principal components: [0.58907558 0.76472991 0.80579941 0.83419663 0.8532724 ]\n"
     ]
    }
   ],
   "source": [
    "# PCA decomposition\n",
    "pca_participants_ss24_nr, pca_df_participants_ss24_nr, loadings_participants_ss24_nr = fit_pca(scaled_data_participants_ss24_nr, 5)"
   ]
  },
  {
   "cell_type": "markdown",
   "metadata": {
    "id": "UV9KWndT9wEP"
   },
   "source": [
    "The two first principal components explain over 76 % of the variance in the data. Let's visualize the participants in the two principal components of their cast votes:"
   ]
  },
  {
   "cell_type": "code",
   "execution_count": 13,
   "metadata": {
    "colab": {
     "base_uri": "https://localhost:8080/",
     "height": 564
    },
    "id": "aZQ3yoyb6cSi",
    "outputId": "b102749a-a291-47ec-e13e-7f934cd0c5b4"
   },
   "outputs": [
    {
     "data": {
      "image/png": "[encoded data removed]",
      "text/plain": [
       "<Figure size 1000x600 with 1 Axes>"
      ]
     },
     "metadata": {},
     "output_type": "display_data"
    }
   ],
   "source": [
    "category_meanings = {\n",
    "    'V': 'Fraktion der Schweizerischen Volkspartei',\n",
    "    'S': 'Sozialdemokratische Fraktion',\n",
    "    'M-E': 'Die Mitte-Fraktion',\n",
    "    'RL': 'FDP-Liberale Fraktion',\n",
    "    'G': 'Grüne Fraktion',\n",
    "    'GL': 'Grünliberale Fraktion'\n",
    "}\n",
    "\n",
    "draw_pca_scatter_2d(\n",
    "    pca_df_participants_ss24_nr['PC1'], pca_df_participants_ss24_nr['PC2'],\n",
    "    ss24_nr_participants_fraction.map(lambda x: \": \".join([x.strip(), category_meanings[x.strip()]])),\n",
    "    title='PCA of session participants NR colored by \"Fraktionen\"',\n",
    "    )\n",
    "plt.show()"
   ]
  },
  {
   "cell_type": "markdown",
   "metadata": {},
   "source": [
    "PC1 can be interpreted as left to right standpoint of NR members, while PC2 seems to represent the direction 'middle' vs. 'poles'."
   ]
  },
  {
   "cell_type": "markdown",
   "metadata": {},
   "source": [
    "**Exercise:** Plot some additional components (possibly, you also have to calculate the PCA with more components). Which components separate e.g., 'FDP-Liberale Fraktion' from 'Die Mitte-Fraktion'?"
   ]
  },
  {
   "cell_type": "markdown",
   "metadata": {},
   "source": [
    "Next, we want to look at what proposals have the largest (in absolute terms) loadings; i.e., the voting proposals that are most important in defining the principal components. We define a function to do this, and will then call it for the two first components."
   ]
  },
  {
   "cell_type": "code",
   "execution_count": 15,
   "metadata": {},
   "outputs": [],
   "source": [
    "def show_largest_coeffs_and_title(loadings, name_list, nToShow=10):\n",
    "    loading_sort_idx = np.argsort(abs(loadings), axis=0)\n",
    "    for idx in loading_sort_idx[:-nToShow:-1]:\n",
    "        print(loadings[idx], ':', name_list[idx])"
   ]
  },
  {
   "cell_type": "code",
   "execution_count": 16,
   "metadata": {},
   "outputs": [
    {
     "name": "stdout",
     "output_type": "stream",
     "text": [
      "-0.06080929755668174 : Voranschlag 2024. Nachtrag I\n",
      "-0.06080929755668174 : Voranschlag 2024. Nachtrag I\n",
      "-0.060767880643710956 : Voranschlag 2024. Nachtrag I\n",
      "-0.060720784646986235 : Voranschlag 2024. Nachtrag I\n",
      "-0.060694643883749205 : Voranschlag 2024. Nachtrag I\n",
      "-0.06062212620896764 : Bei häuslicher Gewalt die Härtefallpraxis nach Artikel 50 AIG garantieren\n",
      "-0.060602269073021936 : Erwerbsersatzgesetz (Digitalisierung in der Erwerbsersatzordnung). Änderung\n",
      "-0.06060210526777045 : Förderung von Bildung, Forschung und Innovation in den Jahren 2025–2028\n",
      "-0.06058587836384624 : Foltergütergesetz\n"
     ]
    }
   ],
   "source": [
    "show_largest_coeffs_and_title(loadings_participants_ss24_nr[0, :], list(df_summary['Topic Title']))"
   ]
  },
  {
   "cell_type": "code",
   "execution_count": 17,
   "metadata": {
    "colab": {
     "base_uri": "https://localhost:8080/"
    },
    "id": "dofxq9xV422D",
    "outputId": "d3f65840-8d89-4a72-f20c-bc0ffa6e0f8f"
   },
   "outputs": [
    {
     "name": "stdout",
     "output_type": "stream",
     "text": [
      "0.1236415838519298 : Strafgesetzbuch und Jugendstrafgesetz. Änderung\n",
      "-0.1208029945879445 : ZGB. Änderung (Massnahmen gegen Minderjährigenheiraten)\n",
      "-0.11811400155307689 : ZGB. Änderung (Massnahmen gegen Minderjährigenheiraten)\n",
      "-0.1154149784320152 : Aktionsplan für mehr Rechtssicherheit bei fürsorgerischer Unterbringung, bewegungseinschränkenden Massnahmen und Behandlung ohne Zustimmung\n",
      "-0.11375559599785817 : Statistische Erfassung fürsorgerischer Unterbringung, bewegungseinschränkender Massnahmen und von Behandlungen ohne Zustimmung\n",
      "-0.11094590249691423 : Fokussierung auf die verfassungsmässigen Aufgaben der Armee. Keine Teilnahme an Nato-Bündnisfallübungen!\n",
      "-0.11013806837064441 : Den Verwurf aufgrund von ungeeigneten Packungsgrössen oder Dosisstärken bei den Medikamentenpreisen berücksichtigen\n",
      "-0.10527798213525023 : Berufsbildung. Stärkung der Berufsberatung\n",
      "-0.08662044449607426 : Vorbereitung und Unterstützung der humanitären Minenräumung in der Ukraine\n"
     ]
    }
   ],
   "source": [
    "show_largest_coeffs_and_title(loadings_participants_ss24_nr[1, :], list(df_summary['Topic Title']))"
   ]
  },
  {
   "cell_type": "markdown",
   "metadata": {},
   "source": [
    "Only knowing the titles of the voting proposals, is often not enough to know what the exact question was. However, we can somewhat identify the topics that are most important in determining the position of a person in the principal component space: For component 1, we see that it's mostly the budget questions, while for component 2, potential modification on the penal code and the focus of the army are most important."
   ]
  },
  {
   "cell_type": "markdown",
   "metadata": {},
   "source": [
    "# Clustering Members of Parliament by Their Cast Votes\n",
    "\n",
    "## K-Means Clustering\n",
    "We will start with K-Means clustering. \n",
    "Hence, we need to determine the number of clusters we want to compute."
   ]
  },
  {
   "cell_type": "markdown",
   "metadata": {},
   "source": [
    "**Exercise:** Besides the technical measures (which we will look at right afterwards), what other way to determine the number of clusters could be useful or interesting?"
   ]
  },
  {
   "cell_type": "markdown",
   "metadata": {},
   "source": [
    "We will now determine the best number of clusters using the elbow method and the silhouette score.\n",
    "\n",
    "**Exercise:** Implement code to make a plot for the elbow method and for the silhouette score, for K-Means with k between 1 and 10. What value of k is best suited according to these methods?"
   ]
  },
  {
   "cell_type": "markdown",
   "metadata": {},
   "source": [
    "Motivated by the fact that there are 6 parliamenary groups, and the silhouette score is not clearly higher for 3 than for 6, we choose k=6 for K-Means."
   ]
  },
  {
   "cell_type": "code",
   "execution_count": 19,
   "metadata": {},
   "outputs": [],
   "source": [
    "kmeans = KMeans(n_clusters=6, random_state=42, n_init=20)\n",
    "kmeans_clusters = kmeans.fit_predict(scaled_data_participants_ss24_nr)"
   ]
  },
  {
   "cell_type": "markdown",
   "metadata": {},
   "source": [
    "With the below code, we plot the **contingency matrix** (or contingence table), which counts how many objects (in our case: members of parliament) are assigned to a given cluster (on the x axis) and belong to a given parliamentary group (on the y axis):"
   ]
  },
  {
   "cell_type": "code",
   "execution_count": 20,
   "metadata": {},
   "outputs": [
    {
     "data": {
      "image/png": "[encoded data removed]",
      "text/plain": [
       "<Figure size 640x480 with 1 Axes>"
      ]
     },
     "metadata": {},
     "output_type": "display_data"
    }
   ],
   "source": [
    "cont_mat = contingency_matrix(ss24_nr_participants_fraction, kmeans_clusters)\n",
    "sns.heatmap(cont_mat, annot=True, vmin=0, vmax=1, cbar=False,\n",
    "            xticklabels=['cluster ' + str(i) for i in range(max(kmeans_clusters)+1)],\n",
    "            yticklabels=[category_meanings[key] for key in ['G', 'GL', 'M-E', 'RL', 'S', 'V']])\n",
    "\n",
    "plt.show()"
   ]
  },
  {
   "cell_type": "markdown",
   "metadata": {},
   "source": [
    "**Exercise:** Comment the above contingency matrix. What might be surprising? With the above comparison, which members of parliament might be interesting for further research?"
   ]
  },
  {
   "cell_type": "markdown",
   "metadata": {},
   "source": [
    "## Hierarchical Clustering\n",
    "Next, we do hierarchical clustering.\n",
    "\n",
    "**Exercise:** \n",
    "\n",
    "* Run hierarchical clustering using the `linkage` function. Which method do you choose? Why?\n",
    "* Plot a dendrogram (using the `dendrogram`) function."
   ]
  },
  {
   "cell_type": "markdown",
   "metadata": {},
   "source": [
    "**Exercise:** Interpret the dendrogram. Can you relate it to the discussion on the number of clusters for K-Means?"
   ]
  },
  {
   "cell_type": "markdown",
   "metadata": {},
   "source": [
    "# Beyond Data\n",
    "In this notebook we have looked at the cast votes of the members of parliament.\n",
    "\n",
    "**Exercise:** What aspects might be missing? What did we possibly disregard or ignore? How could we cover these aspects?"
   ]
  },
  {
   "cell_type": "code",
   "execution_count": null,
   "metadata": {},
   "outputs": [],
   "source": []
  }
 ],
 "metadata": {
  "colab": {
   "provenance": []
  },
  "kernelspec": {
   "display_name": "Python 3 (ipykernel)",
   "language": "python",
   "name": "python3"
  },
  "language_info": {
   "codemirror_mode": {
    "name": "ipython",
    "version": 3
   },
   "file_extension": ".py",
   "mimetype": "text/x-python",
   "name": "python",
   "nbconvert_exporter": "python",
   "pygments_lexer": "ipython3",
   "version": "3.11.9"
  }
 },
 "nbformat": 4,
 "nbformat_minor": 4
}
